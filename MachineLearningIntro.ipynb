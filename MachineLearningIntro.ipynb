{
 "cells": [
  {
   "cell_type": "markdown",
   "metadata": {},
   "source": [
    "## This is based on the initial lecture + hcc sample data ##\n",
    "\n",
    "This is related to Cedars-Sinai AI campus to do Cancer Prognosis Survival"
   ]
  }
 ],
 "metadata": {
  "kernelspec": {
   "display_name": "AICampus",
   "language": "python",
   "name": "python3"
  },
  "language_info": {
   "name": "python",
   "version": "3.12.9"
  }
 },
 "nbformat": 4,
 "nbformat_minor": 2
}
