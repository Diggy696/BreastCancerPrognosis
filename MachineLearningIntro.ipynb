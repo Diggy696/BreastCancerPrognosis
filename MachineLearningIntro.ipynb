{
 "cells": [
  {
   "cell_type": "markdown",
   "metadata": {},
   "source": [
    "## This is based on the initial lecture + hcc sample data ##\n",
    "\n",
    "This is related to Cedars-Sinai AI campus to do Cancer Prognosis Survival"
   ]
  },
  {
   "cell_type": "code",
   "execution_count": 14,
   "metadata": {},
   "outputs": [],
   "source": [
    "import pandas as pd\n",
    "import seaborn as sns\n",
    "import matplotlib.pyplot as plt # Imports are normally put in the first code cell of the notebook by convention"
   ]
  },
  {
   "cell_type": "code",
   "execution_count": 2,
   "metadata": {},
   "outputs": [
    {
     "name": "stdout",
     "output_type": "stream",
     "text": [
      "(165, 51)\n"
     ]
    }
   ],
   "source": [
    "df = pd.read_csv(\"hcc_sample_data.csv\")\n",
    "\n",
    "#get rows and columns \n",
    "print(df.shape)"
   ]
  },
  {
   "cell_type": "code",
   "execution_count": 4,
   "metadata": {},
   "outputs": [
    {
     "name": "stdout",
     "output_type": "stream",
     "text": [
      "<class 'pandas.core.frame.DataFrame'>\n",
      "RangeIndex: 165 entries, 0 to 164\n",
      "Data columns (total 51 columns):\n",
      " #   Column                            Non-Null Count  Dtype  \n",
      "---  ------                            --------------  -----  \n",
      " 0   InstanceID                        165 non-null    int64  \n",
      " 1   Gender                            165 non-null    int64  \n",
      " 2   Symptoms                          147 non-null    float64\n",
      " 3   Alcohol                           165 non-null    int64  \n",
      " 4   Hepatitis B Surface Antigen       148 non-null    float64\n",
      " 5   Hepatitis B e Antigen             126 non-null    float64\n",
      " 6   Hepatitis B Core Antibody         141 non-null    float64\n",
      " 7   Hepatitis C Virus Antibody        156 non-null    float64\n",
      " 8   Cirrhosis                         165 non-null    int64  \n",
      " 9   Endemic Countries                 126 non-null    float64\n",
      " 10  Smoking                           124 non-null    float64\n",
      " 11  Diabetes                          162 non-null    float64\n",
      " 12  Obesity                           155 non-null    float64\n",
      " 13  Hemochromatosis                   142 non-null    float64\n",
      " 14  Arterial Hypertension             162 non-null    float64\n",
      " 15  Chronic Renal Insufficiency       163 non-null    float64\n",
      " 16  Human Immunodeficiency Virus      151 non-null    float64\n",
      " 17  Nonalcoholic Steatohepatitis      143 non-null    float64\n",
      " 18  Esophageal Varices                113 non-null    float64\n",
      " 19  Splenomegaly                      150 non-null    float64\n",
      " 20  Portal Hypertension               154 non-null    float64\n",
      " 21  Portal Vein Thrombosis            162 non-null    float64\n",
      " 22  Liver Metastasis                  161 non-null    float64\n",
      " 23  Radiological Hallmark             163 non-null    float64\n",
      " 24  Age at diagnosis                  165 non-null    int64  \n",
      " 25  Grams of Alcohol per day          117 non-null    float64\n",
      " 26  Packs of cigarets per year        112 non-null    float64\n",
      " 27  Performance Status*               165 non-null    int64  \n",
      " 28  Encephalopathy degree*            164 non-null    float64\n",
      " 29  Ascites degree*                   163 non-null    float64\n",
      " 30  International Normalised Ratio*   161 non-null    float64\n",
      " 31  Alpha-Fetoprotein (ng/mL)         157 non-null    float64\n",
      " 32  Haemoglobin (g/dL)                162 non-null    float64\n",
      " 33  Mean Corpuscular Volume           162 non-null    float64\n",
      " 34  Leukocytes(G/L)                   162 non-null    float64\n",
      " 35  Platelets                         162 non-null    float64\n",
      " 36  Albumin (mg/dL)                   159 non-null    float64\n",
      " 37  Total Bilirubin(mg/dL)            160 non-null    float64\n",
      " 38  Alanine transaminase (U/L)        161 non-null    float64\n",
      " 39  Aspartate transaminase (U/L)      162 non-null    float64\n",
      " 40  Gamma glutamyl transferase (U/L)  162 non-null    float64\n",
      " 41  Alkaline phosphatase (U/L)        162 non-null    float64\n",
      " 42  Total Proteins (g/dL)             154 non-null    float64\n",
      " 43  Creatinine (mg/dL)                158 non-null    float64\n",
      " 44  Number of Nodules                 163 non-null    float64\n",
      " 45  Major dimension of nodule (cm)    145 non-null    float64\n",
      " 46  Direct Bilirubin (mg/dL)          121 non-null    float64\n",
      " 47  Iron                              86 non-null     float64\n",
      " 48  Oxygen Saturation (%)             85 non-null     float64\n",
      " 49  Ferritin (ng/mL)                  85 non-null     float64\n",
      " 50  Class                             165 non-null    int64  \n",
      "dtypes: float64(44), int64(7)\n",
      "memory usage: 65.9 KB\n",
      "None\n"
     ]
    }
   ],
   "source": [
    "print(df.info())"
   ]
  },
  {
   "cell_type": "code",
   "execution_count": 5,
   "metadata": {},
   "outputs": [
    {
     "name": "stdout",
     "output_type": "stream",
     "text": [
      "InstanceID                           0\n",
      "Gender                               0\n",
      "Symptoms                            18\n",
      "Alcohol                              0\n",
      "Hepatitis B Surface Antigen         17\n",
      "Hepatitis B e Antigen               39\n",
      "Hepatitis B Core Antibody           24\n",
      "Hepatitis C Virus Antibody           9\n",
      "Cirrhosis                            0\n",
      "Endemic Countries                   39\n",
      "Smoking                             41\n",
      "Diabetes                             3\n",
      "Obesity                             10\n",
      "Hemochromatosis                     23\n",
      "Arterial Hypertension                3\n",
      "Chronic Renal Insufficiency          2\n",
      "Human Immunodeficiency Virus        14\n",
      "Nonalcoholic Steatohepatitis        22\n",
      "Esophageal Varices                  52\n",
      "Splenomegaly                        15\n",
      "Portal Hypertension                 11\n",
      "Portal Vein Thrombosis               3\n",
      "Liver Metastasis                     4\n",
      "Radiological Hallmark                2\n",
      "Age at diagnosis                     0\n",
      "Grams of Alcohol per day            48\n",
      "Packs of cigarets per year          53\n",
      "Performance Status*                  0\n",
      "Encephalopathy degree*               1\n",
      "Ascites degree*                      2\n",
      "International Normalised Ratio*      4\n",
      "Alpha-Fetoprotein (ng/mL)            8\n",
      "Haemoglobin (g/dL)                   3\n",
      "Mean Corpuscular Volume              3\n",
      "Leukocytes(G/L)                      3\n",
      "Platelets                            3\n",
      "Albumin (mg/dL)                      6\n",
      "Total Bilirubin(mg/dL)               5\n",
      "Alanine transaminase (U/L)           4\n",
      "Aspartate transaminase (U/L)         3\n",
      "Gamma glutamyl transferase (U/L)     3\n",
      "Alkaline phosphatase (U/L)           3\n",
      "Total Proteins (g/dL)               11\n",
      "Creatinine (mg/dL)                   7\n",
      "Number of Nodules                    2\n",
      "Major dimension of nodule (cm)      20\n",
      "Direct Bilirubin (mg/dL)            44\n",
      "Iron                                79\n",
      "Oxygen Saturation (%)               80\n",
      "Ferritin (ng/mL)                    80\n",
      "Class                                0\n",
      "dtype: int64\n"
     ]
    }
   ],
   "source": [
    "# Missing values \n",
    "print(df.isnull().sum())"
   ]
  },
  {
   "cell_type": "code",
   "execution_count": null,
   "metadata": {},
   "outputs": [
    {
     "name": "stdout",
     "output_type": "stream",
     "text": [
      "       InstanceID      Gender   Symptoms      Alcohol  \\\n",
      "count  165.000000  165.000000  147.000000  165.000000   \n",
      "mean    82.000000    0.806061    0.639456    0.739394   \n",
      "std     47.775517    0.396586    0.481800    0.440302   \n",
      "min      0.000000    0.000000    0.000000    0.000000   \n",
      "25%     41.000000    1.000000    0.000000    0.000000   \n",
      "50%     82.000000    1.000000    1.000000    1.000000   \n",
      "75%    123.000000    1.000000    1.000000    1.000000   \n",
      "max    164.000000    1.000000    1.000000    1.000000   \n",
      "\n",
      "       Hepatitis B Surface Antigen  Hepatitis B e Antigen  \\\n",
      "count                   148.000000             126.000000   \n",
      "mean                      0.108108               0.007937   \n",
      "std                       0.311571               0.089087   \n",
      "min                       0.000000               0.000000   \n",
      "25%                       0.000000               0.000000   \n",
      "50%                       0.000000               0.000000   \n",
      "75%                       0.000000               0.000000   \n",
      "max                       1.000000               1.000000   \n",
      "\n",
      "       Hepatitis B Core Antibody  Hepatitis C Virus Antibody   Cirrhosis  \\\n",
      "count                 141.000000                  156.000000  165.000000   \n",
      "mean                    0.269504                    0.217949    0.903030   \n",
      "std                     0.445284                    0.414182    0.296817   \n",
      "min                     0.000000                    0.000000    0.000000   \n",
      "25%                     0.000000                    0.000000    1.000000   \n",
      "50%                     0.000000                    0.000000    1.000000   \n",
      "75%                     1.000000                    0.000000    1.000000   \n",
      "max                     1.000000                    1.000000    1.000000   \n",
      "\n",
      "       Endemic Countries  ...  Alkaline phosphatase (U/L)  \\\n",
      "count         126.000000  ...                  162.000000   \n",
      "mean            0.079365  ...                  212.211605   \n",
      "std             0.271387  ...                  167.943548   \n",
      "min             0.000000  ...                    1.280000   \n",
      "25%             0.000000  ...                  108.250000   \n",
      "50%             0.000000  ...                  162.000000   \n",
      "75%             0.000000  ...                  261.500000   \n",
      "max             1.000000  ...                  980.000000   \n",
      "\n",
      "       Total Proteins (g/dL)  Creatinine (mg/dL)  Number of Nodules  \\\n",
      "count             154.000000          158.000000         163.000000   \n",
      "mean                8.961039            1.127089           2.736196   \n",
      "std                11.728739            0.955856           1.797901   \n",
      "min                 3.900000            0.200000           0.000000   \n",
      "25%                 6.300000            0.700000           1.000000   \n",
      "50%                 7.050000            0.850000           2.000000   \n",
      "75%                 7.575000            1.100000           5.000000   \n",
      "max               102.000000            7.600000           5.000000   \n",
      "\n",
      "       Major dimension of nodule (cm)  Direct Bilirubin (mg/dL)        Iron  \\\n",
      "count                      145.000000                121.000000   86.000000   \n",
      "mean                         6.851172                  1.930000   85.598837   \n",
      "std                          5.095042                  4.210452   55.698995   \n",
      "min                          1.500000                  0.100000    0.000000   \n",
      "25%                          3.000000                  0.370000   40.500000   \n",
      "50%                          5.000000                  0.700000   83.000000   \n",
      "75%                          9.000000                  1.400000  118.000000   \n",
      "max                         22.000000                 29.300000  224.000000   \n",
      "\n",
      "       Oxygen Saturation (%)  Ferritin (ng/mL)       Class  \n",
      "count              85.000000         85.000000  165.000000  \n",
      "mean               37.028941        438.997647    0.381818  \n",
      "std                28.993552        457.114454    0.487311  \n",
      "min                 0.000000          0.000000    0.000000  \n",
      "25%                16.000000         84.000000    0.000000  \n",
      "50%                27.000000        295.000000    0.000000  \n",
      "75%                56.000000        706.000000    1.000000  \n",
      "max               126.000000       2230.000000    1.000000  \n",
      "\n",
      "[8 rows x 51 columns]\n"
     ]
    }
   ],
   "source": [
    "#Summary Statistics for a dataframe\n",
    "print(df.describe())"
   ]
  },
  {
   "cell_type": "code",
   "execution_count": null,
   "metadata": {},
   "outputs": [
    {
     "data": {
      "image/png": "[encoded data removed]",
      "text/plain": [
       "<Figure size 800x600 with 1 Axes>"
      ]
     },
     "metadata": {},
     "output_type": "display_data"
    }
   ],
   "source": [
    "# Define the column containing class labels (replace 'ClassColumn' with your actual column name)\n",
    "class_column = \"Class\"  # Change this to match your dataset\n",
    "\n",
    "# Count the occurrences of each class\n",
    "class_counts = df[class_column].value_counts()\n",
    "\n",
    "# Plot the bar chart\n",
    "plt.figure(figsize=(8, 6))\n",
    "sns.barplot(x=class_counts.index, y=class_counts.values)\n",
    "\n",
    "# Add labels and title\n",
    "plt.xlabel(\"Class Labels\", fontsize=12)\n",
    "plt.ylabel(\"Count\", fontsize=12)\n",
    "plt.title(\"Class Distribution\", fontsize=14)\n",
    "plt.xticks(rotation=45)  # Rotate labels if needed\n",
    "\n",
    "# Show the plot\n",
    "plt.show()"
   ]
  },
  {
   "cell_type": "markdown",
   "metadata": {},
   "source": [
    "# Data Cleaning (of missing values) #"
   ]
  },
  {
   "cell_type": "code",
   "execution_count": 7,
   "metadata": {},
   "outputs": [
    {
     "name": "stdout",
     "output_type": "stream",
     "text": [
      "Number of rows in original dataset: 165\n"
     ]
    }
   ],
   "source": [
    "print(\"Number of rows in original dataset: \"+ str(df.shape[0]))"
   ]
  },
  {
   "cell_type": "code",
   "execution_count": null,
   "metadata": {},
   "outputs": [],
   "source": [
    "df_cleaned = df.dropna() # row with any missing values"
   ]
  },
  {
   "cell_type": "code",
   "execution_count": 10,
   "metadata": {},
   "outputs": [
    {
     "name": "stdout",
     "output_type": "stream",
     "text": [
      "8\n"
     ]
    }
   ],
   "source": [
    "num_rows_no_missing = df_cleaned.shape[0]\n",
    "print(num_rows_no_missing)"
   ]
  },
  {
   "cell_type": "code",
   "execution_count": 11,
   "metadata": {},
   "outputs": [
    {
     "name": "stdout",
     "output_type": "stream",
     "text": [
      "0\n"
     ]
    }
   ],
   "source": [
    "# Imputing missing values\n",
    "df_imputed = df.fillna(df.median())\n",
    "new_total_missing = df_imputed.isnull().sum().sum()\n",
    "print(new_total_missing)"
   ]
  },
  {
   "cell_type": "code",
   "execution_count": null,
   "metadata": {},
   "outputs": [],
   "source": []
  }
 ],
 "metadata": {
  "kernelspec": {
   "display_name": "AICampus",
   "language": "python",
   "name": "python3"
  },
  "language_info": {
   "codemirror_mode": {
    "name": "ipython",
    "version": 3
   },
   "file_extension": ".py",
   "mimetype": "text/x-python",
   "name": "python",
   "nbconvert_exporter": "python",
   "pygments_lexer": "ipython3",
   "version": "3.12.9"
  }
 },
 "nbformat": 4,
 "nbformat_minor": 2
}
