{
 "cells": [
  {
   "cell_type": "markdown",
   "metadata": {},
   "source": [
    "Notes from AI Labs\n",
    "Split Data before permutation importance - 70/30 split.  Can do 5 different splits\n",
    "\n",
    "When evaluating - need evaluation matrix, true positives and true negatives with false positives and false negatives\n",
    "\n",
    "Precision = True Positives/(True Positives + False Positives)\n",
    "\n",
    "Accuracy = True Positives and Negatives/(all four categories)\n",
    "\n",
    "True Positive Rate, Recall = TP/(TP+FN)\n",
    "\n",
    "False Positive Rate, FP/(FP+TN)\n",
    "\n",
    "C-index(Concordance Index) in Survival Analysis\n",
    "\n",
    "Measures the agreement between predicted risk scores and observed survival outcomes\n",
    "\n",
    "C-index = Number of concordant patient pairs/(Total comparable patient pairs)\n",
    "\n",
    "Goal of project is to maximize C-index\n",
    "\n",
    "Survival Analysis when it's binary can be random forest"
   ]
  },
  {
   "cell_type": "code",
   "execution_count": 1,
   "metadata": {},
   "outputs": [],
   "source": [
    "#import kagglehub - no longer needed once using local .csv file\n",
    "import pandas as pd\n",
    "import numpy as np\n",
    "from sklearn.model_selection import GridSearchCV, cross_val_score\n",
    "#from sklearn.preprocessing import LabelEncoder\n",
    "from sksurv.ensemble import RandomSurvivalForest\n",
    "from sksurv.metrics import concordance_index_censored\n",
    "from sklearn.inspection import permutation_importance\n",
    "# for splitting data\n",
    "from sklearn.model_selection import ShuffleSplit\n",
    "# Define a scorer compatible with GridSearchCV\n",
    "from sklearn.metrics import make_scorer"
   ]
  },
  {
   "cell_type": "markdown",
   "metadata": {},
   "source": [
    "## Skip below after first run ##"
   ]
  },
  {
   "cell_type": "code",
   "execution_count": null,
   "metadata": {},
   "outputs": [
    {
     "name": "stdout",
     "output_type": "stream",
     "text": [
      "Downloading from https://www.kaggle.com/api/v1/datasets/download/reihanenamdari/breast-cancer?dataset_version_number=1...\n"
     ]
    },
    {
     "name": "stderr",
     "output_type": "stream",
     "text": [
      "100%|██████████| 42.8k/42.8k [00:00<00:00, 1.22MB/s]"
     ]
    },
    {
     "name": "stdout",
     "output_type": "stream",
     "text": [
      "Extracting files...\n"
     ]
    },
    {
     "name": "stderr",
     "output_type": "stream",
     "text": [
      "\n"
     ]
    }
   ],
   "source": [
    "path = kagglehub.dataset_download(\"reihanenamdari/breast-cancer\")\n",
    "path #path to data download on local machine"
   ]
  },
  {
   "cell_type": "code",
   "execution_count": 2,
   "metadata": {},
   "outputs": [],
   "source": [
    "df = pd.read_csv('Breast_Cancer.csv')\n",
    "#4000 total records"
   ]
  },
  {
   "cell_type": "code",
   "execution_count": 3,
   "metadata": {},
   "outputs": [
    {
     "data": {
      "text/html": [
       "<div>\n",
       "<style scoped>\n",
       "    .dataframe tbody tr th:only-of-type {\n",
       "        vertical-align: middle;\n",
       "    }\n",
       "\n",
       "    .dataframe tbody tr th {\n",
       "        vertical-align: top;\n",
       "    }\n",
       "\n",
       "    .dataframe thead th {\n",
       "        text-align: right;\n",
       "    }\n",
       "</style>\n",
       "<table border=\"1\" class=\"dataframe\">\n",
       "  <thead>\n",
       "    <tr style=\"text-align: right;\">\n",
       "      <th></th>\n",
       "      <th>Age</th>\n",
       "      <th>Race</th>\n",
       "      <th>Marital Status</th>\n",
       "      <th>T Stage</th>\n",
       "      <th>N Stage</th>\n",
       "      <th>6th Stage</th>\n",
       "      <th>differentiate</th>\n",
       "      <th>Grade</th>\n",
       "      <th>A Stage</th>\n",
       "      <th>Tumor Size</th>\n",
       "      <th>Estrogen Status</th>\n",
       "      <th>Progesterone Status</th>\n",
       "      <th>Regional Node Examined</th>\n",
       "      <th>Reginol Node Positive</th>\n",
       "      <th>Survival Months</th>\n",
       "      <th>Status</th>\n",
       "    </tr>\n",
       "  </thead>\n",
       "  <tbody>\n",
       "    <tr>\n",
       "      <th>0</th>\n",
       "      <td>68</td>\n",
       "      <td>White</td>\n",
       "      <td>Married</td>\n",
       "      <td>T1</td>\n",
       "      <td>N1</td>\n",
       "      <td>IIA</td>\n",
       "      <td>Poorly differentiated</td>\n",
       "      <td>3</td>\n",
       "      <td>Regional</td>\n",
       "      <td>4</td>\n",
       "      <td>Positive</td>\n",
       "      <td>Positive</td>\n",
       "      <td>24</td>\n",
       "      <td>1</td>\n",
       "      <td>60</td>\n",
       "      <td>Alive</td>\n",
       "    </tr>\n",
       "    <tr>\n",
       "      <th>1</th>\n",
       "      <td>50</td>\n",
       "      <td>White</td>\n",
       "      <td>Married</td>\n",
       "      <td>T2</td>\n",
       "      <td>N2</td>\n",
       "      <td>IIIA</td>\n",
       "      <td>Moderately differentiated</td>\n",
       "      <td>2</td>\n",
       "      <td>Regional</td>\n",
       "      <td>35</td>\n",
       "      <td>Positive</td>\n",
       "      <td>Positive</td>\n",
       "      <td>14</td>\n",
       "      <td>5</td>\n",
       "      <td>62</td>\n",
       "      <td>Alive</td>\n",
       "    </tr>\n",
       "    <tr>\n",
       "      <th>2</th>\n",
       "      <td>58</td>\n",
       "      <td>White</td>\n",
       "      <td>Divorced</td>\n",
       "      <td>T3</td>\n",
       "      <td>N3</td>\n",
       "      <td>IIIC</td>\n",
       "      <td>Moderately differentiated</td>\n",
       "      <td>2</td>\n",
       "      <td>Regional</td>\n",
       "      <td>63</td>\n",
       "      <td>Positive</td>\n",
       "      <td>Positive</td>\n",
       "      <td>14</td>\n",
       "      <td>7</td>\n",
       "      <td>75</td>\n",
       "      <td>Alive</td>\n",
       "    </tr>\n",
       "    <tr>\n",
       "      <th>3</th>\n",
       "      <td>58</td>\n",
       "      <td>White</td>\n",
       "      <td>Married</td>\n",
       "      <td>T1</td>\n",
       "      <td>N1</td>\n",
       "      <td>IIA</td>\n",
       "      <td>Poorly differentiated</td>\n",
       "      <td>3</td>\n",
       "      <td>Regional</td>\n",
       "      <td>18</td>\n",
       "      <td>Positive</td>\n",
       "      <td>Positive</td>\n",
       "      <td>2</td>\n",
       "      <td>1</td>\n",
       "      <td>84</td>\n",
       "      <td>Alive</td>\n",
       "    </tr>\n",
       "    <tr>\n",
       "      <th>4</th>\n",
       "      <td>47</td>\n",
       "      <td>White</td>\n",
       "      <td>Married</td>\n",
       "      <td>T2</td>\n",
       "      <td>N1</td>\n",
       "      <td>IIB</td>\n",
       "      <td>Poorly differentiated</td>\n",
       "      <td>3</td>\n",
       "      <td>Regional</td>\n",
       "      <td>41</td>\n",
       "      <td>Positive</td>\n",
       "      <td>Positive</td>\n",
       "      <td>3</td>\n",
       "      <td>1</td>\n",
       "      <td>50</td>\n",
       "      <td>Alive</td>\n",
       "    </tr>\n",
       "  </tbody>\n",
       "</table>\n",
       "</div>"
      ],
      "text/plain": [
       "   Age   Race Marital Status T Stage  N Stage 6th Stage  \\\n",
       "0   68  White        Married       T1      N1       IIA   \n",
       "1   50  White        Married       T2      N2      IIIA   \n",
       "2   58  White       Divorced       T3      N3      IIIC   \n",
       "3   58  White        Married       T1      N1       IIA   \n",
       "4   47  White        Married       T2      N1       IIB   \n",
       "\n",
       "               differentiate Grade   A Stage  Tumor Size Estrogen Status  \\\n",
       "0      Poorly differentiated     3  Regional           4        Positive   \n",
       "1  Moderately differentiated     2  Regional          35        Positive   \n",
       "2  Moderately differentiated     2  Regional          63        Positive   \n",
       "3      Poorly differentiated     3  Regional          18        Positive   \n",
       "4      Poorly differentiated     3  Regional          41        Positive   \n",
       "\n",
       "  Progesterone Status  Regional Node Examined  Reginol Node Positive  \\\n",
       "0            Positive                      24                      1   \n",
       "1            Positive                      14                      5   \n",
       "2            Positive                      14                      7   \n",
       "3            Positive                       2                      1   \n",
       "4            Positive                       3                      1   \n",
       "\n",
       "   Survival Months Status  \n",
       "0               60  Alive  \n",
       "1               62  Alive  \n",
       "2               75  Alive  \n",
       "3               84  Alive  \n",
       "4               50  Alive  "
      ]
     },
     "execution_count": 3,
     "metadata": {},
     "output_type": "execute_result"
    }
   ],
   "source": [
    "df.head()"
   ]
  },
  {
   "cell_type": "code",
   "execution_count": 4,
   "metadata": {},
   "outputs": [],
   "source": [
    "#Create numerical columns out of Race\n",
    "df['White'] = (df['Race']=='White').astype(int)\n",
    "df['Black'] = (df['Race']=='Black').astype(int)\n",
    "df['Other'] = (df['Race']=='Other').astype(int)"
   ]
  },
  {
   "cell_type": "code",
   "execution_count": 5,
   "metadata": {},
   "outputs": [],
   "source": [
    "#Drop categorical columns - drops Race, Marital Status, 6th stage, differentiate, A stage\n",
    "df.drop(df.columns[[1,2,5,6,8]], axis=1, inplace=True)"
   ]
  },
  {
   "cell_type": "code",
   "execution_count": 6,
   "metadata": {},
   "outputs": [],
   "source": [
    "#Encode Categorical Columns\n",
    "df['T Stage '] = df['T Stage '].map({'T1':1,'T2':2, 'T3':3,'T4':4})\n",
    "df['N Stage'] = df['N Stage'].map({'N1':1,'N2':2, 'N3':3})\n",
    "df['Estrogen Status'] = df['Estrogen Status'].map({'Positive':1,'Negative':0})\n",
    "df['Progesterone Status'] = df['Progesterone Status'].map({'Positive': 1,'Negative': 0})\n",
    "df['Status'] = df['Status'].map({'Alive':1,'Dead':0})\n",
    "#Force to numeric and drop those with missing grades\n",
    "df['Grade'] = pd.to_numeric(df['Grade'], errors = 'coerce')\n",
    "df = df.dropna(subset = ['Grade'])"
   ]
  },
  {
   "cell_type": "code",
   "execution_count": 7,
   "metadata": {},
   "outputs": [
    {
     "name": "stdout",
     "output_type": "stream",
     "text": [
      "(4005, 14)\n"
     ]
    }
   ],
   "source": [
    "#check shape of dataset\n",
    "print(df.shape)"
   ]
  },
  {
   "cell_type": "code",
   "execution_count": 8,
   "metadata": {},
   "outputs": [],
   "source": [
    "#Create a survival object dataframe\n",
    "y = df[['Status','Survival Months']]"
   ]
  },
  {
   "cell_type": "code",
   "execution_count": 9,
   "metadata": {},
   "outputs": [
    {
     "data": {
      "text/html": [
       "<div>\n",
       "<style scoped>\n",
       "    .dataframe tbody tr th:only-of-type {\n",
       "        vertical-align: middle;\n",
       "    }\n",
       "\n",
       "    .dataframe tbody tr th {\n",
       "        vertical-align: top;\n",
       "    }\n",
       "\n",
       "    .dataframe thead th {\n",
       "        text-align: right;\n",
       "    }\n",
       "</style>\n",
       "<table border=\"1\" class=\"dataframe\">\n",
       "  <thead>\n",
       "    <tr style=\"text-align: right;\">\n",
       "      <th></th>\n",
       "      <th>Status</th>\n",
       "      <th>Survival Months</th>\n",
       "    </tr>\n",
       "  </thead>\n",
       "  <tbody>\n",
       "    <tr>\n",
       "      <th>0</th>\n",
       "      <td>1</td>\n",
       "      <td>60</td>\n",
       "    </tr>\n",
       "    <tr>\n",
       "      <th>1</th>\n",
       "      <td>1</td>\n",
       "      <td>62</td>\n",
       "    </tr>\n",
       "    <tr>\n",
       "      <th>2</th>\n",
       "      <td>1</td>\n",
       "      <td>75</td>\n",
       "    </tr>\n",
       "    <tr>\n",
       "      <th>3</th>\n",
       "      <td>1</td>\n",
       "      <td>84</td>\n",
       "    </tr>\n",
       "    <tr>\n",
       "      <th>4</th>\n",
       "      <td>1</td>\n",
       "      <td>50</td>\n",
       "    </tr>\n",
       "  </tbody>\n",
       "</table>\n",
       "</div>"
      ],
      "text/plain": [
       "   Status  Survival Months\n",
       "0       1               60\n",
       "1       1               62\n",
       "2       1               75\n",
       "3       1               84\n",
       "4       1               50"
      ]
     },
     "execution_count": 9,
     "metadata": {},
     "output_type": "execute_result"
    }
   ],
   "source": [
    "y.head()"
   ]
  },
  {
   "cell_type": "markdown",
   "metadata": {},
   "source": [
    "Below will create a list of tuples, 'Status' and 'Survival Months' by row and keeps Status boolean\n",
    "and Survival Months as a 64 bit float\n",
    "\n",
    "These two variables define survival time and status as target variables.\n",
    "\n",
    "This helps us use sckit-surival library for analysis.  It requires this tuple format.S"
   ]
  },
  {
   "cell_type": "code",
   "execution_count": 10,
   "metadata": {},
   "outputs": [],
   "source": [
    "y_structured = np.array([(bool(status), months) for status, months in zip(y['Status'], y['Survival Months'])],\n",
    "                        dtype = [('Status','bool'), ('Survival Months', 'f8')])"
   ]
  },
  {
   "cell_type": "code",
   "execution_count": 11,
   "metadata": {},
   "outputs": [
    {
     "data": {
      "text/plain": [
       "array([( True,  60.), ( True,  62.), ( True,  75.), ..., ( True,  69.),\n",
       "       ( True,  72.), ( True, 100.)],\n",
       "      shape=(4005,), dtype=[('Status', '?'), ('Survival Months', '<f8')])"
      ]
     },
     "execution_count": 11,
     "metadata": {},
     "output_type": "execute_result"
    }
   ],
   "source": [
    "y_structured \n",
    "# Status of True means event happened (Death)"
   ]
  },
  {
   "cell_type": "code",
   "execution_count": 12,
   "metadata": {},
   "outputs": [],
   "source": [
    "#Removes target columns from original dataframe, which contains our features only\n",
    "X= df.drop(columns = ['Status','Survival Months'])"
   ]
  },
  {
   "cell_type": "code",
   "execution_count": 13,
   "metadata": {},
   "outputs": [
    {
     "data": {
      "text/html": [
       "<div>\n",
       "<style scoped>\n",
       "    .dataframe tbody tr th:only-of-type {\n",
       "        vertical-align: middle;\n",
       "    }\n",
       "\n",
       "    .dataframe tbody tr th {\n",
       "        vertical-align: top;\n",
       "    }\n",
       "\n",
       "    .dataframe thead th {\n",
       "        text-align: right;\n",
       "    }\n",
       "</style>\n",
       "<table border=\"1\" class=\"dataframe\">\n",
       "  <thead>\n",
       "    <tr style=\"text-align: right;\">\n",
       "      <th></th>\n",
       "      <th>Age</th>\n",
       "      <th>T Stage</th>\n",
       "      <th>N Stage</th>\n",
       "      <th>Grade</th>\n",
       "      <th>Tumor Size</th>\n",
       "      <th>Estrogen Status</th>\n",
       "      <th>Progesterone Status</th>\n",
       "      <th>Regional Node Examined</th>\n",
       "      <th>Reginol Node Positive</th>\n",
       "      <th>White</th>\n",
       "      <th>Black</th>\n",
       "      <th>Other</th>\n",
       "    </tr>\n",
       "  </thead>\n",
       "  <tbody>\n",
       "    <tr>\n",
       "      <th>0</th>\n",
       "      <td>68</td>\n",
       "      <td>1</td>\n",
       "      <td>1</td>\n",
       "      <td>3.0</td>\n",
       "      <td>4</td>\n",
       "      <td>1</td>\n",
       "      <td>1</td>\n",
       "      <td>24</td>\n",
       "      <td>1</td>\n",
       "      <td>1</td>\n",
       "      <td>0</td>\n",
       "      <td>0</td>\n",
       "    </tr>\n",
       "    <tr>\n",
       "      <th>1</th>\n",
       "      <td>50</td>\n",
       "      <td>2</td>\n",
       "      <td>2</td>\n",
       "      <td>2.0</td>\n",
       "      <td>35</td>\n",
       "      <td>1</td>\n",
       "      <td>1</td>\n",
       "      <td>14</td>\n",
       "      <td>5</td>\n",
       "      <td>1</td>\n",
       "      <td>0</td>\n",
       "      <td>0</td>\n",
       "    </tr>\n",
       "    <tr>\n",
       "      <th>2</th>\n",
       "      <td>58</td>\n",
       "      <td>3</td>\n",
       "      <td>3</td>\n",
       "      <td>2.0</td>\n",
       "      <td>63</td>\n",
       "      <td>1</td>\n",
       "      <td>1</td>\n",
       "      <td>14</td>\n",
       "      <td>7</td>\n",
       "      <td>1</td>\n",
       "      <td>0</td>\n",
       "      <td>0</td>\n",
       "    </tr>\n",
       "    <tr>\n",
       "      <th>3</th>\n",
       "      <td>58</td>\n",
       "      <td>1</td>\n",
       "      <td>1</td>\n",
       "      <td>3.0</td>\n",
       "      <td>18</td>\n",
       "      <td>1</td>\n",
       "      <td>1</td>\n",
       "      <td>2</td>\n",
       "      <td>1</td>\n",
       "      <td>1</td>\n",
       "      <td>0</td>\n",
       "      <td>0</td>\n",
       "    </tr>\n",
       "    <tr>\n",
       "      <th>4</th>\n",
       "      <td>47</td>\n",
       "      <td>2</td>\n",
       "      <td>1</td>\n",
       "      <td>3.0</td>\n",
       "      <td>41</td>\n",
       "      <td>1</td>\n",
       "      <td>1</td>\n",
       "      <td>3</td>\n",
       "      <td>1</td>\n",
       "      <td>1</td>\n",
       "      <td>0</td>\n",
       "      <td>0</td>\n",
       "    </tr>\n",
       "  </tbody>\n",
       "</table>\n",
       "</div>"
      ],
      "text/plain": [
       "   Age  T Stage   N Stage  Grade  Tumor Size  Estrogen Status  \\\n",
       "0   68         1        1    3.0           4                1   \n",
       "1   50         2        2    2.0          35                1   \n",
       "2   58         3        3    2.0          63                1   \n",
       "3   58         1        1    3.0          18                1   \n",
       "4   47         2        1    3.0          41                1   \n",
       "\n",
       "   Progesterone Status  Regional Node Examined  Reginol Node Positive  White  \\\n",
       "0                    1                      24                      1      1   \n",
       "1                    1                      14                      5      1   \n",
       "2                    1                      14                      7      1   \n",
       "3                    1                       2                      1      1   \n",
       "4                    1                       3                      1      1   \n",
       "\n",
       "   Black  Other  \n",
       "0      0      0  \n",
       "1      0      0  \n",
       "2      0      0  \n",
       "3      0      0  \n",
       "4      0      0  "
      ]
     },
     "execution_count": 13,
     "metadata": {},
     "output_type": "execute_result"
    }
   ],
   "source": [
    "#X becomes our Independent variables\n",
    "X.head()"
   ]
  },
  {
   "cell_type": "code",
   "execution_count": 14,
   "metadata": {},
   "outputs": [],
   "source": [
    "# Custom scoring function for survival analysis - closer to 1 is better.  0.5 is a random guess.  \n",
    "# C-index measures how well the model predicts who survives longer\n",
    "# Custom scoring function for survival analysis\n",
    "def cindex_score(model, x, y_struct):\n",
    "    prediction = model.predict(x)\n",
    "    return concordance_index_censored(y_struct['Status'], y_struct['Survival Months'], prediction)[0]"
   ]
  },
  {
   "cell_type": "markdown",
   "metadata": {},
   "source": [
    "**Training and Test Split -70/30 with 5 splits**"
   ]
  },
  {
   "cell_type": "code",
   "execution_count": 15,
   "metadata": {},
   "outputs": [
    {
     "name": "stdout",
     "output_type": "stream",
     "text": [
      "\n",
      "--- Cross-Validation C-Indices ---\n",
      "C-Index for one split: 0.5230\n",
      "C-Index for one split: 0.5022\n",
      "C-Index for one split: 0.5188\n",
      "C-Index for one split: 0.5168\n",
      "C-Index for one split: 0.5340\n",
      "\n",
      "Average C-Index across 5 splits: 0.5190\n"
     ]
    }
   ],
   "source": [
    "rs = ShuffleSplit(n_splits=5, test_size=0.3, random_state=42)\n",
    "split_scores = []\n",
    "print(\"\\n--- Cross-Validation C-Indices ---\")\n",
    "#Here we are training multiple models\n",
    "for train_idx, test_idx in rs.split(X):\n",
    "    X_train, X_test = X.iloc[train_idx], X.iloc[test_idx]\n",
    "    y_train, y_test = y_structured[train_idx], y_structured[test_idx]\n",
    "\n",
    "    model = RandomSurvivalForest(n_estimators=100, min_samples_split=10, min_samples_leaf=15, random_state=42, n_jobs=-1)\n",
    "    model.fit(X_train, y_train)\n",
    "\n",
    "    c_index = cindex_score(model, X_test, y_test)\n",
    "    split_scores.append(c_index)\n",
    "    print(f\"C-Index for one split: {c_index:.4f}\")\n",
    "\n",
    "print(f\"\\nAverage C-Index across 5 splits: {np.mean(split_scores):.4f}\")"
   ]
  },
  {
   "cell_type": "markdown",
   "metadata": {},
   "source": [
    "Collect all models and test sets and do permutation importance for each then average."
   ]
  },
  {
   "cell_type": "code",
   "execution_count": 16,
   "metadata": {},
   "outputs": [
    {
     "name": "stdout",
     "output_type": "stream",
     "text": [
      "\n",
      "Permutation importances (averaged across splits):\n",
      " Progesterone Status       0.010083\n",
      "Age                       0.004052\n",
      "Grade                     0.003538\n",
      "Reginol Node Positive     0.001826\n",
      "T Stage                   0.001741\n",
      "Estrogen Status           0.001416\n",
      "Tumor Size                0.001188\n",
      "N Stage                   0.000657\n",
      "Black                    -0.000366\n",
      "Other                    -0.000775\n",
      "White                    -0.001004\n",
      "Regional Node Examined   -0.004990\n",
      "dtype: float64\n"
     ]
    }
   ],
   "source": [
    "# Calculate average permutation importance across all splits\n",
    "importances_list = []\n",
    "\n",
    "for train_idx, test_idx in rs.split(X):\n",
    "    X_train, X_test = X.iloc[train_idx], X.iloc[test_idx]\n",
    "    y_train, y_test = y_structured[train_idx], y_structured[test_idx]\n",
    "\n",
    "    model = RandomSurvivalForest(n_estimators=100, min_samples_split=10, min_samples_leaf=15, random_state=42, n_jobs=-1)\n",
    "    model.fit(X_train, y_train)\n",
    "\n",
    "    perm_result = permutation_importance(\n",
    "        estimator=model,\n",
    "        X=X_test,\n",
    "        y=y_test,\n",
    "        n_repeats=10,\n",
    "        random_state=42,\n",
    "        n_jobs=-1,\n",
    "        scoring=cindex_score\n",
    "    )\n",
    "    importances_list.append(perm_result.importances_mean)\n",
    "\n",
    "# Average the importances\n",
    "avg_importances = np.mean(importances_list, axis=0)\n",
    "importance_df = pd.Series(avg_importances, index=X.columns).sort_values(ascending=False)\n",
    "\n",
    "print(\"\\nPermutation importances (averaged across splits):\\n\", importance_df)\n"
   ]
  },
  {
   "cell_type": "markdown",
   "metadata": {},
   "source": [
    "**Feature and Model Selection**\n",
    "\n",
    "We do permutation based feature importance to identify top 5 features.  This reduces dimensionality and focuses on variables we think are more predictive.\n",
    "\n",
    "Random Survival Forest is chosen as the model approach due to its robustness with non-linear relationships and handling high dimensional data.  Random Survival Forest is good for predicting survival time distributions."
   ]
  },
  {
   "cell_type": "code",
   "execution_count": 28,
   "metadata": {},
   "outputs": [
    {
     "name": "stdout",
     "output_type": "stream",
     "text": [
      "\n",
      "--- Cross-Validated Top-K Features Testing ---\n",
      "Top 3 features average C-Index across splits: 0.4939\n",
      "Top 4 features average C-Index across splits: 0.5018\n",
      "Top 5 features average C-Index across splits: 0.5095\n",
      "Top 6 features average C-Index across splits: 0.5154\n",
      "Top 7 features average C-Index across splits: 0.5189\n",
      "Top 8 features average C-Index across splits: 0.5200\n",
      "Top 9 features average C-Index across splits: 0.5178\n",
      "Top 10 features average C-Index across splits: 0.5184\n",
      "\n",
      "Best K based on C-index: 8 with C-Index: 0.5200\n"
     ]
    }
   ],
   "source": [
    "print(\"\\n--- Cross-Validated Top-K Features Testing ---\")\n",
    "\n",
    "rs = ShuffleSplit(n_splits=5, test_size=0.3, random_state=42)\n",
    "\n",
    "importances_list = []   \n",
    "all_k_scores = {}       \n",
    "best_score = 0\n",
    "best_k = 0\n",
    "\n",
    "for k in range(3, 11):\n",
    "    cindex_scores_k = []\n",
    "\n",
    "    for train_idx, test_idx in rs.split(X):\n",
    "        X_train, X_test = X.iloc[train_idx], X.iloc[test_idx]\n",
    "        y_train, y_test = y_structured[train_idx], y_structured[test_idx]\n",
    "\n",
    "        # Step 1: Train full model on training data\n",
    "        model = RandomSurvivalForest(n_estimators=100, min_samples_split=10, min_samples_leaf=15, random_state=42, n_jobs=-1)\n",
    "        model.fit(X_train, y_train)\n",
    "\n",
    "        # Step 2: Permutation importance on training data\n",
    "        perm_result = permutation_importance(\n",
    "            estimator=model,\n",
    "            X=X_train,\n",
    "            y=y_train,\n",
    "            n_repeats=10,\n",
    "            random_state=42,\n",
    "            n_jobs=-1,\n",
    "            scoring=cindex_score\n",
    "        )\n",
    "        importances_list.append(perm_result.importances_mean)\n",
    "\n",
    "        # Step 3: Select top K features from training data\n",
    "        importance_train = pd.Series(perm_result.importances_mean, index=X.columns)\n",
    "        top_k_features = importance_train.sort_values(ascending=False).head(k).index\n",
    "\n",
    "        # Step 4: Train new model on only Top-K features\n",
    "        model_k = RandomSurvivalForest(n_estimators=100, min_samples_split=10, min_samples_leaf=15, random_state=42, n_jobs=-1)\n",
    "        model_k.fit(X_train[top_k_features], y_train)\n",
    "\n",
    "        # Step 5: Evaluate C-index on test set\n",
    "        c_index_k = cindex_score(model_k, X_test[top_k_features], y_test)\n",
    "        cindex_scores_k.append(c_index_k)\n",
    "\n",
    "    avg_cindex = np.mean(cindex_scores_k)\n",
    "    all_k_scores[k] = avg_cindex\n",
    "\n",
    "    print(f\"Top {k} features average C-Index across splits: {avg_cindex:.4f}\")\n",
    "\n",
    "    if avg_cindex > best_score:\n",
    "        best_score = avg_cindex\n",
    "        best_k = k\n",
    "print(f\"\\nBest K based on C-index: {best_k} with C-Index: {best_score:.4f}\")\n",
    "\n",
    "# Average the collected permutation importances across all runs\n",
    "avg_importances = np.mean(importances_list, axis=0)\n",
    "\n",
    "# Build importance DataFrame and select final features\n",
    "importance_df = pd.Series(avg_importances, index=X.columns).sort_values(ascending=False)\n",
    "top_features = importance_df.head(best_k).index\n",
    "\n",
    "# Final X_selected for hyperparameter tuning\n",
    "X_selected = X[top_features]"
   ]
  },
  {
   "cell_type": "markdown",
   "metadata": {},
   "source": [
    "**Hyperparameter Tuning**\n",
    "\n",
    "Simply, we look at all the trees and number of features selected at each split.  This aims to optimize Concordance Index, which is a standard metric in survival analysis."
   ]
  },
  {
   "cell_type": "code",
   "execution_count": 29,
   "metadata": {},
   "outputs": [
    {
     "name": "stderr",
     "output_type": "stream",
     "text": [
      "c:\\Python\\BreastCancerPrognosis\\AICampus\\Lib\\site-packages\\sklearn\\model_selection\\_search.py:1108: UserWarning: One or more of the test scores are non-finite: [nan nan nan ... nan nan nan]\n",
      "  warnings.warn(\n"
     ]
    },
    {
     "name": "stdout",
     "output_type": "stream",
     "text": [
      "\n",
      "Best parameters from GridSearchCV: {'max_features': 1, 'min_samples_leaf': 3, 'min_samples_split': 3, 'n_estimators': 50}\n"
     ]
    }
   ],
   "source": [
    "def concordance_index_scorer(estimator, X, y):\n",
    "    return concordance_index_censored(y['Status'], y['Survival Months'], estimator.predict(X))[0]\n",
    "\n",
    "param_grid = {\n",
    "    'n_estimators': [50,100,150,200,250,300,350,400,450,500],\n",
    "    'max_features': [1, 2, 3, 4, 5,'sqrt'],\n",
    "    'min_samples_split': [3, 5,7,10,13,15],\n",
    "    'min_samples_leaf': [3,5,7,10,13,15]\n",
    "}\n",
    "\n",
    "grid_search = GridSearchCV(\n",
    "    estimator=RandomSurvivalForest(random_state=42),\n",
    "    param_grid=param_grid,\n",
    "    scoring=make_scorer(concordance_index_scorer),\n",
    "    cv=3,\n",
    "    n_jobs=-1\n",
    ")\n",
    "\n",
    "grid_search.fit(X_selected, y_structured)\n",
    "print(\"\\nBest parameters from GridSearchCV:\", grid_search.best_params_)"
   ]
  },
  {
   "cell_type": "code",
   "execution_count": 29,
   "metadata": {},
   "outputs": [
    {
     "name": "stdout",
     "output_type": "stream",
     "text": [
      "\n",
      "Final Concordance Index (on full selected features): 0.6479667954237261\n"
     ]
    }
   ],
   "source": [
    "#Train best model\n",
    "best_rsf = grid_search.best_estimator_\n",
    "best_rsf.fit(X_selected, y_structured)\n",
    "\n",
    "final_c_index = concordance_index_censored(\n",
    "    event_indicator=y_structured['Status'],\n",
    "    event_time=y_structured['Survival Months'],\n",
    "    estimate=best_rsf.predict(X_selected)\n",
    ")[0]\n",
    "\n",
    "print('\\nFinal Concordance Index (on full selected features):', final_c_index)"
   ]
  },
  {
   "cell_type": "markdown",
   "metadata": {},
   "source": [
    "**Result interpretation**\n",
    "\n",
    "0.5: Model performs no better than random chance\n",
    "\n",
    "Greater than 0.7: Indicates good discriminative ability\n",
    "\n",
    "Greater than 0.8: Indicates strong predictive performance.  A higher C-index suggests that the model effectively distinguishes between patients with different survival outcomes"
   ]
  }
 ],
 "metadata": {
  "kernelspec": {
   "display_name": "AICampus",
   "language": "python",
   "name": "python3"
  },
  "language_info": {
   "codemirror_mode": {
    "name": "ipython",
    "version": 3
   },
   "file_extension": ".py",
   "mimetype": "text/x-python",
   "name": "python",
   "nbconvert_exporter": "python",
   "pygments_lexer": "ipython3",
   "version": "3.12.9"
  }
 },
 "nbformat": 4,
 "nbformat_minor": 2
}
